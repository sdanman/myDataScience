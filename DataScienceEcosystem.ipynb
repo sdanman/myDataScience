{
  "nbformat": 4,
  "nbformat_minor": 0,
  "metadata": {
    "colab": {
      "provenance": [],
      "authorship_tag": "ABX9TyPsH6Ob5F3D22LCKif1Tdl6",
      "include_colab_link": true
    },
    "kernelspec": {
      "name": "python3",
      "display_name": "Python 3"
    },
    "language_info": {
      "name": "python"
    }
  },
  "cells": [
    {
      "cell_type": "markdown",
      "metadata": {
        "id": "view-in-github",
        "colab_type": "text"
      },
      "source": [
        "<a href=\"https://colab.research.google.com/github/sdanman/myDataScience/blob/main/DataScienceEcosystem.ipynb\" target=\"_parent\"><img src=\"https://colab.research.google.com/assets/colab-badge.svg\" alt=\"Open In Colab\"/></a>"
      ]
    },
    {
      "cell_type": "code",
      "execution_count": null,
      "metadata": {
        "id": "5XtxX08ypuJi"
      },
      "outputs": [],
      "source": []
    },
    {
      "cell_type": "markdown",
      "source": [
        "## H2: Data Science Tools and Ecosystem\n",
        "In this notebook, Data Science Tools and Ecosystem are summarized.\n",
        "#Some of the popular languages that Data Scientists use are:\n",
        "- Python\n",
        "- R\n",
        "- Julia\n",
        "\n",
        "###Exercise 10 - Insert a markdown cell to list Objectives\n",
        "**Objective**\n",
        "\n",
        "- List popular languages for Data Science\n",
        "- text manggment like bold, H1, H2 ...\n",
        "- Artimatic calculation\n",
        "\n",
        "\n",
        "###Exercise 5 - Create a markdown cell to list data science libraries\n",
        "#Some of the commonly used libraries used by Data Scientists include:\n",
        "Python: Data Manipulation and Cleaning:\n",
        "\n",
        "   - NumPy:\n",
        "   - Pandas:\n",
        "   - Scikit-learn:\n",
        "\n",
        "Data Analysis and Statistics:\n",
        "   - Statsmodels\n",
        "   - PyTorch\n",
        "   -SciPy\n",
        "###Exercise 6 - Create a markdown cell with a table of Data Science tools\n",
        "\n",
        "|Data Science Tools|\n",
        "| ------ |\n",
        "| Jupyter Notebook |\n",
        "|Visual Studio Code |\n",
        "| Googl colab |\n",
        "\n",
        "##H2: Author\n",
        "Daniel Manaye\n",
        "\n",
        "\n",
        "\n",
        "\n"
      ],
      "metadata": {
        "id": "Rdtl3x1YQA5W"
      }
    },
    {
      "cell_type": "code",
      "source": [],
      "metadata": {
        "id": "VFQnn1UVpBAc"
      },
      "execution_count": null,
      "outputs": []
    },
    {
      "cell_type": "code",
      "source": [
        "### H: Below are a few examples of evaluating arithmetic expressions in Python\n",
        "# Exercise 8 - Create a code cell to multiply and add numbers\n",
        "#This a simple arithmetic expression to mutiply then add integers\n",
        "(3*4)+5\n"
      ],
      "metadata": {
        "colab": {
          "base_uri": "https://localhost:8080/"
        },
        "id": "YtTqImXmRfAa",
        "outputId": "e7be2e19-106c-4aac-addf-dbcb74608c5a"
      },
      "execution_count": 2,
      "outputs": [
        {
          "output_type": "execute_result",
          "data": {
            "text/plain": [
              "17"
            ]
          },
          "metadata": {},
          "execution_count": 2
        }
      ]
    },
    {
      "cell_type": "code",
      "source": [
        "#Exercise 9 - Create a code cell to convert minutes to hours\n",
        "#This will convert 200 minutes to hours by diving by 60\n",
        "200/60\n",
        "\n"
      ],
      "metadata": {
        "colab": {
          "base_uri": "https://localhost:8080/"
        },
        "id": "Z01oS7JPmYPN",
        "outputId": "e771d911-5983-477a-b28b-5b3383b858a2"
      },
      "execution_count": 3,
      "outputs": [
        {
          "output_type": "execute_result",
          "data": {
            "text/plain": [
              "3.3333333333333335"
            ]
          },
          "metadata": {},
          "execution_count": 3
        }
      ]
    }
  ]
}