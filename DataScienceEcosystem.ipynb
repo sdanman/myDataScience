{
  "nbformat": 4,
  "nbformat_minor": 0,
  "metadata": {
    "colab": {
      "provenance": [],
      "authorship_tag": "ABX9TyMs7mZtQHjeKy8p/Fp/fg4n",
      "include_colab_link": true
    },
    "kernelspec": {
      "name": "python3",
      "display_name": "Python 3"
    },
    "language_info": {
      "name": "python"
    }
  },
  "cells": [
    {
      "cell_type": "markdown",
      "metadata": {
        "id": "view-in-github",
        "colab_type": "text"
      },
      "source": [
        "<a href=\"https://colab.research.google.com/github/sdanman/myDataScience/blob/main/DataScienceEcosystem.ipynb\" target=\"_parent\"><img src=\"https://colab.research.google.com/assets/colab-badge.svg\" alt=\"Open In Colab\"/></a>"
      ]
    },
    {
      "cell_type": "code",
      "execution_count": null,
      "metadata": {
        "id": "5XtxX08ypuJi"
      },
      "outputs": [],
      "source": []
    },
    {
      "cell_type": "markdown",
      "source": [
        "## H2: Data Science Tools and Ecosystem\n",
        "In this notebook, Data Science Tools and Ecosystem are summarized.\n",
        "#Some of the popular languages that Data Scientists use are:\n",
        "- Python\n",
        "- R\n",
        "- Julia\n",
        "###Exercise 5 - Create a markdown cell to list data science libraries\n",
        "#Some of the commonly used libraries used by Data Scientists include:\n",
        "Python: Data Manipulation and Cleaning:\n",
        "\n",
        "   - NumPy:\n",
        "   - Pandas:\n",
        "   - Scikit-learn:\n",
        "\n",
        "Data Analysis and Statistics:\n",
        "   - Statsmodels\n",
        "   - PyTorch\n",
        "   -SciPy\n",
        "###Exercise 6 - Create a markdown cell with a table of Data Science tools\n",
        "\n",
        "|Data Science Tools|\n",
        "| ------ |\n",
        "| Jupyter Notebook |\n",
        "|Visual Studio Code |\n",
        "| Googl colab |\n",
        "\n",
        "### H: Below are a few examples of evaluating arithmetic expressions in Python\n",
        "\n"
      ],
      "metadata": {
        "id": "Rdtl3x1YQA5W"
      }
    },
    {
      "cell_type": "code",
      "source": [],
      "metadata": {
        "id": "YtTqImXmRfAa"
      },
      "execution_count": null,
      "outputs": []
    }
  ]
}